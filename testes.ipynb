{
 "cells": [
  {
   "cell_type": "code",
   "execution_count": 22,
   "metadata": {
    "collapsed": true,
    "ExecuteTime": {
     "end_time": "2023-05-06T16:11:52.262916278Z",
     "start_time": "2023-05-06T16:11:51.797881823Z"
    }
   },
   "outputs": [
    {
     "name": "stdout",
     "output_type": "stream",
     "text": [
      "                   nome  siglaPartido                                 email\n",
      "0        Abilio Brunini            PL       dep.abiliobrunini@camara.leg.br\n",
      "1        Acácio Favacho           MDB       dep.acaciofavacho@camara.leg.br\n",
      "2           Adail Filho  REPUBLICANOS          dep.adailfilho@camara.leg.br\n",
      "3       Adilson Barroso            PL      dep.adilsonbarroso@camara.leg.br\n",
      "4          Adolfo Viana          PSDB         dep.adolfoviana@camara.leg.br\n",
      "..                  ...           ...                                   ...\n",
      "95       Chris Tonietto            PL       dep.christonietto@camara.leg.br\n",
      "96      Clarissa Tércio            PP      dep.clarissatercio@camara.leg.br\n",
      "97       Claudio Cajado            PP       dep.claudiocajado@camara.leg.br\n",
      "98         Cleber Verde  REPUBLICANOS         dep.cleberverde@camara.leg.br\n",
      "99  Clodoaldo Magalhães            PV  dep.clodoaldomagalhaes@camara.leg.br\n",
      "\n",
      "[100 rows x 3 columns]\n"
     ]
    }
   ],
   "source": [
    "import pandas as pd\n",
    "import requests\n",
    "import os\n",
    "url = 'https://dadosabertos.camara.leg.br/api/v2/deputados?ordem=ASC&ordenarPor=nome'\n",
    "dados ='';\n",
    "response = requests.get(url)\n",
    "data = response.json()\n",
    "df = pd.json_normalize(data['dados'])\n",
    "df_partido = df.loc[:, ['nome', 'siglaPartido','email']]\n",
    "print(df_partido.head(100))\n"
   ]
  },
  {
   "cell_type": "code",
   "execution_count": 28,
   "outputs": [
    {
     "name": "stdout",
     "output_type": "stream",
     "text": [
      " Ja foi criado\n"
     ]
    }
   ],
   "source": [
    "import os\n",
    "df_partido.to_csv('Deputados', index=False)\n",
    "if os.path.isfile('Deputados'):\n",
    "    print(' Ja foi criado')\n",
    "else:\n",
    "    print('não foi criado')\n",
    "\n"
   ],
   "metadata": {
    "collapsed": false,
    "ExecuteTime": {
     "end_time": "2023-05-06T16:19:39.245490491Z",
     "start_time": "2023-05-06T16:19:39.187092240Z"
    }
   }
  },
  {
   "cell_type": "code",
   "execution_count": null,
   "outputs": [],
   "source": [],
   "metadata": {
    "collapsed": false
   }
  }
 ],
 "metadata": {
  "kernelspec": {
   "display_name": "Python 3",
   "language": "python",
   "name": "python3"
  },
  "language_info": {
   "codemirror_mode": {
    "name": "ipython",
    "version": 2
   },
   "file_extension": ".py",
   "mimetype": "text/x-python",
   "name": "python",
   "nbconvert_exporter": "python",
   "pygments_lexer": "ipython2",
   "version": "2.7.6"
  }
 },
 "nbformat": 4,
 "nbformat_minor": 0
}
